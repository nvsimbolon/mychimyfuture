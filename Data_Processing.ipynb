{
 "cells": [
  {
   "cell_type": "code",
   "execution_count": 1,
   "id": "a965773b",
   "metadata": {},
   "outputs": [],
   "source": [
    "import pandas as pd"
   ]
  },
  {
   "cell_type": "code",
   "execution_count": 18,
   "id": "a1bc2f24",
   "metadata": {},
   "outputs": [
    {
     "name": "stderr",
     "output_type": "stream",
     "text": [
      "/var/folders/s3/_qwxl0r151sdz0mvxwd477d40000gn/T/ipykernel_80243/4031343084.py:1: DtypeWarning: Columns (14,28,37,38) have mixed types. Specify dtype option on import or set low_memory=False.\n",
      "  df = pd.read_csv('/Users/joepopop/Desktop/STAT 390/convert_MCMF_ALL_TIME_DATA.csv', sep = '\\t')\n"
     ]
    }
   ],
   "source": [
    "df = pd.read_csv('/Users/joepopop/Desktop/STAT 390/convert_MCMF_ALL_TIME_DATA.csv', sep = '\\t')"
   ]
  },
  {
   "cell_type": "code",
   "execution_count": 17,
   "id": "3e003ab0",
   "metadata": {},
   "outputs": [],
   "source": [
    "category_dict = {'Building And Fixing Things': 'Building & Fixing Things', \n",
    " 'Computers.': 'Computers', \n",
    " 'Food.': 'Food',\n",
    " 'Helping Your Community.': 'Helping Your Community',\n",
    " 'Reading & Writing.': 'Reading & Writing',\n",
    " 'Sports + Wellness.': 'Sports & Wellness',\n",
    " 'Work + Career': 'Work & Career'\n",
    "}\n",
    "\n",
    "df['Category Name'] = df['Category Name'].replace(category_dict)"
   ]
  },
  {
   "cell_type": "code",
   "execution_count": 19,
   "id": "eabbb939",
   "metadata": {},
   "outputs": [
    {
     "data": {
      "text/plain": [
       "['Academic Support',\n",
       " 'Work + Career ',\n",
       " 'Music & Art.',\n",
       " 'Managing Money.',\n",
       " 'Helping Your Community.',\n",
       " 'Reading & Writing',\n",
       " 'Sports + Wellness.',\n",
       " 'Computers.',\n",
       " 'Science ',\n",
       " 'Building And Fixing Things',\n",
       " 'Computers',\n",
       " 'Performance.',\n",
       " 'Helping Your Community',\n",
       " 'Science & Math',\n",
       " 'Food',\n",
       " 'Food.',\n",
       " 'Building & Fixing Things',\n",
       " 'Reading & Writing.',\n",
       " 'Math',\n",
       " 'Digital Media.',\n",
       " 'Nature.',\n",
       " 'Healthcare',\n",
       " 'Transportation',\n",
       " 'Social Studies ',\n",
       " 'Teaching',\n",
       " 'Law',\n",
       " 'Customer/Human Service',\n",
       " nan]"
      ]
     },
     "execution_count": 19,
     "metadata": {},
     "output_type": "execute_result"
    }
   ],
   "source": [
    "df['Category Name'].unique().tolist()"
   ]
  }
 ],
 "metadata": {
  "kernelspec": {
   "display_name": "Python 3 (ipykernel)",
   "language": "python",
   "name": "python3"
  },
  "language_info": {
   "codemirror_mode": {
    "name": "ipython",
    "version": 3
   },
   "file_extension": ".py",
   "mimetype": "text/x-python",
   "name": "python",
   "nbconvert_exporter": "python",
   "pygments_lexer": "ipython3",
   "version": "3.9.13"
  }
 },
 "nbformat": 4,
 "nbformat_minor": 5
}
