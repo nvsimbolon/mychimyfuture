{
 "cells": [
  {
   "cell_type": "markdown",
   "id": "01ae3c44",
   "metadata": {},
   "source": [
    "## Progress for week of 4/16\n",
    "\n",
    "### MyCHi Project\n",
    "#### Data Preprocessing\n",
    "- ...\n",
    "\n",
    "#### EDA\n",
    "- ...\n",
    "\n",
    "#### Data Manipulation\n",
    "- ...\n",
    "\n",
    "## Plans for week of 4/23"
   ]
  },
  {
   "cell_type": "code",
   "execution_count": null,
   "id": "a99b9ad5",
   "metadata": {},
   "outputs": [],
   "source": []
  }
 ],
 "metadata": {
  "kernelspec": {
   "display_name": "Python 3",
   "language": "python",
   "name": "python3"
  },
  "language_info": {
   "codemirror_mode": {
    "name": "ipython",
    "version": 3
   },
   "file_extension": ".py",
   "mimetype": "text/x-python",
   "name": "python",
   "nbconvert_exporter": "python",
   "pygments_lexer": "ipython3",
   "version": "3.6.13"
  }
 },
 "nbformat": 4,
 "nbformat_minor": 5
}
