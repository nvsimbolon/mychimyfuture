{
 "cells": [
  {
   "cell_type": "markdown",
   "id": "f1456b69",
   "metadata": {},
   "source": [
    "## Plan for Week of 4/16\n",
    "\n",
    "#### Data Cleaning\n",
    "- Create a data cleaning file\n",
    "- Pull .csv file into data cleaning file. Get data into a working state\n",
    "    - Address current error: 'Error tokenizing data. C error: Expected 19 fields in line 7691, saw 30'\n",
    "    - Search stack overflow\n",
    "\n",
    "#### Data Visualization\n",
    "- Develop an understanding for datatypes\n",
    "- Use groupby to visualize distributions of important variables\n",
    "- Develop dummy variables for important categorical variables\n",
    "\n",
    "#### Product\n",
    "For the next meeting, each member will bring:\n",
    "- Several important visualizations from personal research\n",
    "    - Documentation of insights to be discussed\n",
    "- Documentation of questions/issues occuring in data exploration\n",
    "- Ideas for initial modeling based on important variables"
   ]
  },
  {
   "cell_type": "code",
   "execution_count": null,
   "id": "e6f92f7a",
   "metadata": {},
   "outputs": [],
   "source": []
  }
 ],
 "metadata": {
  "kernelspec": {
   "display_name": "Python 3",
   "language": "python",
   "name": "python3"
  },
  "language_info": {
   "codemirror_mode": {
    "name": "ipython",
    "version": 3
   },
   "file_extension": ".py",
   "mimetype": "text/x-python",
   "name": "python",
   "nbconvert_exporter": "python",
   "pygments_lexer": "ipython3",
   "version": "3.6.13"
  }
 },
 "nbformat": 4,
 "nbformat_minor": 5
}
