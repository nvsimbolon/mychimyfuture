{
 "cells": [
  {
   "cell_type": "markdown",
   "id": "76362d39",
   "metadata": {},
   "source": [
    "## MyChi\n",
    "## Progress for week of 5/19\n",
    "- Delegated sections of the presentation to each group member through multiple group meetings, with further plan delegated to the member in the coming week progress plan\n",
    "- Explored preliminary relationships through models on geographies, income (hardship score), population, and race ethnicity\n",
    "- Created map visualizations on geography based on population, hardship (we will continue building on the map visualization with models/clustering we run in the coming week)\n",
    "\n",
    "\n",
    "## Progress for week of 5/26\n",
    "- Finish the presentation with visualizations and clear designated assignments to each group member\n",
    "- Meet 2 times before the presentation to go over models, practice presentation\n",
    "- Timeline: Analysis due by Tuesday 5/23, meet again on Thursday 5/25\n",
    "\n",
    "Breakdown\n",
    "\n",
    "- Luke: Modeling the coefficients of datasets to look for relationships to dive into further (circle back to this analysis on Tuesday)\n",
    "- Joe & Hannah: Clustering by geography and race & ethnicity, then import the findings into the map\n",
    "- Natalie: Building the presentation, drafting the speech scripts, and updating the draft google slideshow in track of team's progress\n",
    "\n",
    "## Kaggle (Luke not included)\n",
    "- Continued feature engineering when we realized that the model is more likely to be nonlinear\n",
    "    - Removed linear PCA\n",
    "    - Started exploring faeture selection through nonlinear and nonparametric models such as random forest, lasso, and XG boost feature importances\n",
    "    - Conducted feature selection through generating random columns and selected features with importance greater than these random columns\n",
    "- Started exploring models with recorded scores\n",
    "    - Bagged MARS\n",
    "    - LightGBM\n",
    "    - XGBoost"
   ]
  },
  {
   "cell_type": "code",
   "execution_count": null,
   "id": "3df54bd2",
   "metadata": {},
   "outputs": [],
   "source": []
  }
 ],
 "metadata": {
  "kernelspec": {
   "display_name": "Python 3 (ipykernel)",
   "language": "python",
   "name": "python3"
  },
  "language_info": {
   "codemirror_mode": {
    "name": "ipython",
    "version": 3
   },
   "file_extension": ".py",
   "mimetype": "text/x-python",
   "name": "python",
   "nbconvert_exporter": "python",
   "pygments_lexer": "ipython3",
   "version": "3.9.12"
  }
 },
 "nbformat": 4,
 "nbformat_minor": 5
}
