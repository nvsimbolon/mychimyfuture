{
 "cells": [
  {
   "cell_type": "markdown",
   "id": "54a7ee80",
   "metadata": {},
   "source": [
    "# Progress for week of 4/16\n",
    "\n",
    "## MyChi Project\n",
    "\n",
    "### Data Preprocessing\n",
    "- Feature engineering: Transformed raw data by analyzing different categories and spotting useful categories. \n",
    "    - worked together to identify and combine alike categories by identifying patterns or relationships among different categories.\n",
    "- Explored relationships between different variables/categories with help of visual output\n",
    "- Devoted more time exploring ways to tackle null data or rows with missing data in certain columns, and came up with solutions to address this problem (and will continue the following week)\n",
    "\n",
    "\n",
    "### EDA\n",
    "- Used visualization to see degree of importance in different categories (in terms of # of input and distribution of inputs)\n",
    "- Developped barplots to find distributions based on neighborhoods\n",
    "- Developped scatterplots to visualize program distribution for latitude\n",
    "\n",
    "### Plans for week of 4/23\n",
    "For the next meeting, each member will bring:\n",
    "- A completed version of feature engineering\n",
    "- Exploring ways to complement each group member's data manipulation\n",
    "- Coming up data visualization ideas for presentation\n"
   ]
  },
  {
   "cell_type": "code",
   "execution_count": null,
   "id": "8bfc399a",
   "metadata": {},
   "outputs": [],
   "source": []
  },
  {
   "cell_type": "code",
   "execution_count": null,
   "id": "4ff1f8d7",
   "metadata": {},
   "outputs": [],
   "source": []
  }
 ],
 "metadata": {
  "kernelspec": {
   "display_name": "Python 3 (ipykernel)",
   "language": "python",
   "name": "python3"
  },
  "language_info": {
   "codemirror_mode": {
    "name": "ipython",
    "version": 3
   },
   "file_extension": ".py",
   "mimetype": "text/x-python",
   "name": "python",
   "nbconvert_exporter": "python",
   "pygments_lexer": "ipython3",
   "version": "3.9.12"
  }
 },
 "nbformat": 4,
 "nbformat_minor": 5
}
