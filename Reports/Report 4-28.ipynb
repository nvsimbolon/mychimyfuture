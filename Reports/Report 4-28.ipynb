{
 "cells": [
  {
   "cell_type": "markdown",
   "id": "63be41a9",
   "metadata": {},
   "source": [
    "#### MyChi\n",
    "## Progress for week of 4/28\n",
    "- Sourced and imported population data for chicago neighborhoods\n",
    "    - Created a metric 'Events per capita' to be predicted in modeling\n",
    "- Sourced and imported economic hardship data \n",
    "    - 2016-2020 Chicago Community Hardship Index : Percent Values 2016-2020\n",
    "    \n",
    "- Merged all collected data into a single dataframe\n",
    "\n",
    "\n",
    "## Plan for week of 4/30\n",
    "- Visualize the correlation strength of 'Events per Capita' with predictors\n",
    "- Visualize shape of relationships of 'Events per Capita' with predictors\n",
    "- Visualize correlations between predictors\n",
    "\n",
    "Meet during the week (5/3) to share visualizations and create presentation\n"
   ]
  },
  {
   "cell_type": "markdown",
   "id": "b376c7c2",
   "metadata": {},
   "source": [
    "## Kaggle (Luke seperate)\n",
    "## Progress for week of 4/28\n",
    "- Cleaned null data and explored variable interactions\n",
    "- Wrote codes to prepare for model fitting\n",
    "- Tested linear OLS, lasso, MARS, ridge models and recorded scores and rmse\n",
    "\n",
    "## Plan for week of 4/30\n",
    "- Continue and wrap up feature engineering, with visualizations (using sns) to see interactions, variable distribution\n",
    "- Start fitting into a variety of models, including ensemble models"
   ]
  },
  {
   "cell_type": "code",
   "execution_count": null,
   "id": "abfdea2f",
   "metadata": {},
   "outputs": [],
   "source": []
  }
 ],
 "metadata": {
  "kernelspec": {
   "display_name": "Python 3",
   "language": "python",
   "name": "python3"
  },
  "language_info": {
   "codemirror_mode": {
    "name": "ipython",
    "version": 3
   },
   "file_extension": ".py",
   "mimetype": "text/x-python",
   "name": "python",
   "nbconvert_exporter": "python",
   "pygments_lexer": "ipython3",
   "version": "3.6.13"
  }
 },
 "nbformat": 4,
 "nbformat_minor": 5
}
