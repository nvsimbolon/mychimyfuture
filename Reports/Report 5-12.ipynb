{
 "cells": [
  {
   "cell_type": "markdown",
   "id": "61e8105b",
   "metadata": {},
   "source": [
    "## MyChi\n",
    "## Progress for week of 5/12\n",
    "Wrangled dataset and capacity metric\n",
    "\n",
    "Conducted lasso regression to analyze basic feature importance to capacity per capita\n",
    "\n",
    "Discussed direction of modeling goals\n",
    "- How are we modeling equity?\n",
    "    - Inference is more important than prediction tasks here\n",
    "    \n",
    "\n",
    "## Progress for week of 5/14\n",
    "Figure out interactive map viualizations\n",
    "\n",
    "Explore youth population datasets for neighborhoods\n",
    "\n",
    "Make dummy variable for predominant ethnicity\n",
    "\n",
    "Break into different tasks for inference analysis and visualization this week:\n",
    "- Ethnicity and population\n",
    "- Category of program types\n",
    "- Hardship/social resources\n",
    "\n",
    "\n",
    "\n",
    "## Kaggle (Luke not included)\n",
    "- applied three transformations (boxcox, log, quantile_normal) on y variable and found bimodal trend in it\n",
    "- created code to remove highly correlated features\n",
    "- plotted highly correlated variables, which we plan to apply clustering next week\n"
   ]
  }
 ],
 "metadata": {
  "kernelspec": {
   "display_name": "Python 3",
   "language": "python",
   "name": "python3"
  },
  "language_info": {
   "codemirror_mode": {
    "name": "ipython",
    "version": 3
   },
   "file_extension": ".py",
   "mimetype": "text/x-python",
   "name": "python",
   "nbconvert_exporter": "python",
   "pygments_lexer": "ipython3",
   "version": "3.6.13"
  }
 },
 "nbformat": 4,
 "nbformat_minor": 5
}
