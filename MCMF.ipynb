{
 "cells": [
  {
   "cell_type": "code",
   "execution_count": 2,
   "metadata": {
    "id": "gm2Cnk1OreCP"
   },
   "outputs": [],
   "source": [
    "import pandas as pd\n",
    "# from google.colab import drive"
   ]
  },
  {
   "cell_type": "markdown",
   "metadata": {
    "id": "hamtARMQsTcp"
   },
   "source": [
    "**LOAD DATA**"
   ]
  },
  {
   "cell_type": "code",
   "execution_count": null,
   "metadata": {
    "colab": {
     "base_uri": "https://localhost:8080/"
    },
    "id": "X0Uh9Xe2sJf6",
    "outputId": "169929ff-c9c3-4dda-adf6-f2924c40aa1a"
   },
   "outputs": [],
   "source": [
    "#\n",
    "drive.mount('/content/drive', force_remount=True)\n",
    "df = pd.read_csv('/content/drive/MyDrive/STAT 390/convert_MCMF_ALL_TIME_DATA.csv', sep = '\\t')"
   ]
  },
  {
   "cell_type": "code",
   "execution_count": null,
   "metadata": {
    "colab": {
     "base_uri": "https://localhost:8080/"
    },
    "id": "0iFLFdPOsRvb",
    "outputId": "1b75000c-1bb6-4bcd-9776-bd0afd4cee1e"
   },
   "outputs": [],
   "source": [
    "# load population data (used to calculate per capita metrics)\n",
    "population_df = pd.read_csv('/content/drive/MyDrive/STAT 390/chicago_population.CSV', ';').T\n",
    "headers = population_df.iloc[0]\n",
    "population_df = pd.DataFrame(population_df.values[1:], columns=headers)"
   ]
  },
  {
   "cell_type": "code",
   "execution_count": null,
   "metadata": {
    "colab": {
     "base_uri": "https://localhost:8080/"
    },
    "id": "D588h6YDiH5u",
    "outputId": "4d516740-cf4c-4058-aeb8-908a564bfa41"
   },
   "outputs": [],
   "source": [
    "temp1 = df['Geographic Cluster Name'].sort_values().unique()\n",
    "temp1"
   ]
  },
  {
   "cell_type": "code",
   "execution_count": null,
   "metadata": {
    "colab": {
     "base_uri": "https://localhost:8080/"
    },
    "id": "xWjYhBeTiaQi",
    "outputId": "0f73b0bf-f540-43b6-e7ec-f207cab51eea"
   },
   "outputs": [],
   "source": [
    "temp2 = population_df['name'].str.upper().str.replace(\"'\", \"\").sort_values().unique()\n",
    "temp2"
   ]
  },
  {
   "cell_type": "code",
   "execution_count": null,
   "metadata": {
    "colab": {
     "base_uri": "https://localhost:8080/"
    },
    "id": "ymDQc4dnkLlM",
    "outputId": "965064ad-8cfe-4f37-ac2f-f2ee59b39ff4"
   },
   "outputs": [],
   "source": [
    "# Explore differences in community areas before merging population data and main data\n",
    "set(temp1) ^ set(temp2)"
   ]
  },
  {
   "cell_type": "markdown",
   "metadata": {
    "id": "JcfKktwCnie-"
   },
   "source": [
    "**PREPROCESSING**"
   ]
  },
  {
   "cell_type": "code",
   "execution_count": null,
   "metadata": {
    "colab": {
     "base_uri": "https://localhost:8080/"
    },
    "id": "uMOk3nnKnNn3",
    "outputId": "3fa44b78-02ac-43ca-f1af-93c74f911e8f"
   },
   "outputs": [],
   "source": [
    "# Discard programs with min age over 25\n",
    "df = df.loc[df['Min Age'] <= 25]\n",
    "\n",
    "# Record programs with max age over 25 as family programs\n",
    "df['Family Program'] = (df['Max Age'] > 25).astype(bool)\n",
    "\n",
    "# Make category names unique\n",
    "category_dict = {'Building And Fixing Things': 'Building & Fixing Things', \n",
    " 'Computers.': 'Computers', \n",
    " 'Food.': 'Food',\n",
    " 'Helping Your Community.': 'Helping Your Community',\n",
    " 'Reading & Writing.': 'Reading & Writing',\n",
    " 'Sports + Wellness.': 'Sports & Wellness',\n",
    " 'Work + Career': 'Work & Career'\n",
    "}\n",
    "\n",
    "df['Category Name'] = df['Category Name'].replace(category_dict)\n",
    "\n",
    "# Group category names by STEM\n",
    "stem_categories = ['Computers', 'Science', 'Building & Fixing Things', 'Science & Math', 'Digital Media.', 'Nature.', 'Math']\n",
    "df['STEM'] = df['Category Name'].isin(stem_categories)\n",
    "df['STEM'] = df['STEM'].map({True: 'STEM', False: 'Non-STEM'})\n",
    "\n",
    "# Group min and max age by quartile\n",
    "df['Min Age Quartile'] = pd.cut(df['Min Age'], bins=[0, 10, 17, 99, 200], labels=['0-10', '11-17','18-99', '100-200'])\n",
    "df['Max Age Quartile'] = pd.cut(df['Max Age'], bins=[0, 3, 6, 13, 25], labels=['0-3', '4-6', '7-13','14-25'])"
   ]
  },
  {
   "cell_type": "markdown",
   "metadata": {
    "id": "JnWWvdYbnqnm"
   },
   "source": [
    "**ANALYSIS**"
   ]
  },
  {
   "cell_type": "code",
   "execution_count": null,
   "metadata": {
    "colab": {
     "base_uri": "https://localhost:8080/",
     "height": 1000
    },
    "id": "iVyf1uPBn0RL",
    "outputId": "2c29e658-6829-4d30-97dc-e61645c4496a"
   },
   "outputs": [],
   "source": [
    "# Exploring null values\n",
    "df.isnull().sum()\n",
    "\n",
    "# Examining the two observations without category names\n",
    "df.loc[df['Program Name'] == 'Grab & Go Meals for Children & Teens']\n",
    "df.loc[df['Program Name'] == 'Trunk or Treat at Shabbona']\n",
    "\n",
    "# Examining observations with missing Geographic cluster names\n",
    "geonan = df.loc[df['Geographic Cluster Name'].isnull()]\n",
    "geonan.isnull().sum()\n",
    "\n",
    "# Checking observations without geographic cluster name and no online address\n",
    "geoonlinenan = geonan.loc[geonan['Online Address'].isnull()].groupby(by = 'Category Name')\n",
    "num = geoonlinenan['Category Name'].count()\n",
    "\n",
    "# Checking the actual category names\n",
    "categories = df.groupby(by = 'Category Name')\n",
    "categories['Category Name'].count()\n",
    "\n",
    "# Locating observations with min_age = 25\n",
    "df['Min Age'].dtype\n",
    "df.loc[df['Min Age'] == 25]"
   ]
  },
  {
   "cell_type": "code",
   "execution_count": null,
   "metadata": {
    "colab": {
     "base_uri": "https://localhost:8080/",
     "height": 1000
    },
    "id": "YMWrm-C0pg2l",
    "outputId": "6d6154dc-f121-447a-c3ec-abf56cb235d6"
   },
   "outputs": [],
   "source": [
    "import matplotlib.pyplot as plt\n",
    "import seaborn as sns\n",
    "\n",
    "clusters = df.groupby('Geographic Cluster Name').agg({'Geographic Cluster Name': 'count', 'Capacity':'sum', 'Max Age':'mean', 'Latitude':'mean'})\n",
    "clusters.columns = ['Total Programs', 'Total Capacity', 'Average Max Age', 'Average Latitude']\n",
    "clusters['Average Capacity'] = clusters['Total Capacity'] / clusters['Total Programs']\n",
    "clusters.sort_values('Total Programs', inplace=True, ascending=False)\n",
    "clusters.reset_index(inplace=True)\n",
    "print(clusters)\n",
    "\n",
    "# Train on total capacity for different program types?\n",
    "    # Cluster, Type, \n",
    "    # Make a binary column for online/in-person\n",
    "    \n",
    "# Add population for per capita\n",
    "\n",
    "clusters.plot.bar(x='Geographic Cluster Name', y='Total Programs')\n",
    "clusters.sort_values('Total Capacity', ascending=False).plot.bar(x='Geographic Cluster Name', y='Total Capacity')\n",
    "clusters.plot(kind='scatter', x='Average Latitude', y='Total Programs')\n",
    "\n",
    "# Train on total capacity for different program types\n",
    "\n",
    "    ## Important Predictors- what to group by?\n",
    "    # Cluster (location)\n",
    "    # Category (make subcategories?)\n",
    "    # Binary online/in-person\n",
    "    \n",
    "    ## Other features to create/use?\n",
    "    # Time of the year?\n",
    "    # Price?\n",
    "    \n",
    "    ## \n",
    "    # Other predictors?\n",
    "    # Other metrics/interactions to analyze?\n",
    "\n",
    "grouped = clusters = df.groupby(['Geographic Cluster Name', 'Category Name', 'Meeting Type']).agg({'Geographic Cluster Name': 'count', 'Capacity':'sum', 'Max Age':'mean', 'Latitude':'mean'})\n",
    "grouped.columns = ['Total Programs', 'Total Capacity', 'Average Max Age', 'Average Latitude']\n",
    "grouped['Average Capacity'] = grouped['Total Capacity'] / grouped['Total Programs']\n",
    "\n",
    "\n",
    "grouped.reset_index(inplace=True)\n",
    "print(grouped)\n",
    "\n",
    "# This grouped dataframe will evolve with new enigneered predictors and metrics. We will use this as out training data to assess equity moving forward\n"
   ]
  },
  {
   "cell_type": "markdown",
   "metadata": {
    "id": "ebLf-H0KrcuB"
   },
   "source": [
    "### Equity Metric"
   ]
  },
  {
   "cell_type": "code",
   "execution_count": null,
   "metadata": {},
   "outputs": [],
   "source": [
    "## Equity index - how do we model areas of need\n",
    "# 2016-2020 Chicago Community Hardship Index : Percent Values 2016-2020\n",
    "hardship = pd.read_csv('Hardship_Index.csv')\n",
    "\n",
    "# Hardship Score - can talk about how this is calculated during presentation\n",
    "# https://storymaps.arcgis.com/stories/da5601c3e0924e5ab3ee07ade9954f7a#"
   ]
  },
  {
   "cell_type": "code",
   "execution_count": null,
   "metadata": {},
   "outputs": [],
   "source": [
    "hardship['Community Area'] = hardship['Community Area'].str.upper()\n",
    "merge = pd.merge(grouped, hardship, left_on='Geographic Cluster Name', right_on='Community Area')\n"
   ]
  },
  {
   "cell_type": "code",
   "execution_count": 3,
   "metadata": {},
   "outputs": [
    {
     "ename": "NameError",
     "evalue": "name 'grouped' is not defined",
     "output_type": "error",
     "traceback": [
      "\u001b[0;31m---------------------------------------------------------------------------\u001b[0m",
      "\u001b[0;31mNameError\u001b[0m                                 Traceback (most recent call last)",
      "\u001b[0;32m<ipython-input-3-286636f5ef3d>\u001b[0m in \u001b[0;36m<module>\u001b[0;34m\u001b[0m\n\u001b[0;32m----> 1\u001b[0;31m \u001b[0mgrouped\u001b[0m\u001b[0;34m[\u001b[0m\u001b[0;34m~\u001b[0m\u001b[0mgrouped\u001b[0m\u001b[0;34m[\u001b[0m\u001b[0;34m'Geographic Cluster Name'\u001b[0m\u001b[0;34m]\u001b[0m\u001b[0;34m.\u001b[0m\u001b[0misin\u001b[0m\u001b[0;34m(\u001b[0m\u001b[0mhardship\u001b[0m\u001b[0;34m[\u001b[0m\u001b[0;34m'Community Area'\u001b[0m\u001b[0;34m]\u001b[0m\u001b[0;34m)\u001b[0m\u001b[0;34m]\u001b[0m\u001b[0;34m[\u001b[0m\u001b[0;34m'Geographic Cluster Name'\u001b[0m\u001b[0;34m]\u001b[0m\u001b[0;34m.\u001b[0m\u001b[0munique\u001b[0m\u001b[0;34m(\u001b[0m\u001b[0;34m)\u001b[0m\u001b[0;34m\u001b[0m\u001b[0;34m\u001b[0m\u001b[0m\n\u001b[0m",
      "\u001b[0;31mNameError\u001b[0m: name 'grouped' is not defined"
     ]
    }
   ],
   "source": [
    "grouped[~grouped['Geographic Cluster Name'].isin(hardship['Community Area'])]['Geographic Cluster Name'].unique()\n",
    "\n",
    "# Need to do some manual matching to resolve merge issues with hardship and popualtion data"
   ]
  },
  {
   "cell_type": "code",
   "execution_count": null,
   "metadata": {},
   "outputs": [],
   "source": []
  }
 ],
 "metadata": {
  "colab": {
   "provenance": []
  },
  "kernelspec": {
   "display_name": "Python 3",
   "language": "python",
   "name": "python3"
  },
  "language_info": {
   "codemirror_mode": {
    "name": "ipython",
    "version": 3
   },
   "file_extension": ".py",
   "mimetype": "text/x-python",
   "name": "python",
   "nbconvert_exporter": "python",
   "pygments_lexer": "ipython3",
   "version": "3.6.13"
  }
 },
 "nbformat": 4,
 "nbformat_minor": 1
}
